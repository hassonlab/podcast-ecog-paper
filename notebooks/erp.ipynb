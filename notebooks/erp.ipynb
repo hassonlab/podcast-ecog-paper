{
 "cells": [
  {
   "cell_type": "code",
   "execution_count": 1,
   "metadata": {},
   "outputs": [],
   "source": [
    "import h5py\n",
    "import numpy as np\n",
    "import matplotlib.pyplot as plt\n",
    "\n",
    "from mne.io import read_raw_fif\n",
    "from mne_bids import BIDSPath\n",
    "from nilearn.plotting import plot_markers"
   ]
  },
  {
   "cell_type": "code",
   "execution_count": null,
   "metadata": {},
   "outputs": [],
   "source": [
    "result_path = BIDSPath(\n",
    "    root=\"../results\", datatype=\"erp\", extension=\".h5\", check=False\n",
    ")\n",
    "result_files = result_path.match()\n",
    "len(result_files)"
   ]
  },
  {
   "cell_type": "code",
   "execution_count": null,
   "metadata": {},
   "outputs": [],
   "source": [
    "sub_evoked = []\n",
    "for result_path in result_files:\n",
    "    with h5py.File(result_path, \"r\") as f:\n",
    "        evoked = f['evoked'][...]\n",
    "        lags = f['lags'][...]\n",
    "\n",
    "        sub_evoked.append(evoked)\n",
    "\n",
    "all_xcorrs = np.vstack(sub_evoked)\n",
    "print(all_xcorrs.shape)"
   ]
  },
  {
   "cell_type": "code",
   "execution_count": null,
   "metadata": {},
   "outputs": [],
   "source": [
    "mean = all_xcorrs.mean(0)\n",
    "err = all_xcorrs.std(0)# / np.sqrt(all_xcorrs.shape[0])\n",
    "\n",
    "fig, ax = plt.subplots()\n",
    "ax.axvline(0, c='k', ls=':')\n",
    "ax.fill_between(lags, mean - err, mean + err, alpha=0.1, color='k')\n",
    "ax.plot(lags, mean, color='k', label=f\"N={len(all_xcorrs)}\")\n",
    "ax.set_xlabel(\"lag (s)\")\n",
    "ax.set_ylabel(\"zscore ± std\")\n",
    "ax.legend(frameon=False, loc='best')\n",
    "fig.show()"
   ]
  },
  {
   "cell_type": "code",
   "execution_count": null,
   "metadata": {},
   "outputs": [],
   "source": [
    "# get coords\n",
    "edf_path = BIDSPath(root=\"../../monkey/derivatives/ecogprep\", datatype=\"ieeg\", description=\"highgamma\", extension=\".fif\")\n",
    "\n",
    "sub_coords = []\n",
    "sub_ch_names = []\n",
    "for raw_fif in edf_path.match():\n",
    "    print(raw_fif)\n",
    "    raw = read_raw_fif(raw_fif, verbose=False)\n",
    "    ch2loc = {ch['ch_name']: ch['loc'][:3] for ch in raw.info['chs']}\n",
    "    coords = np.vstack([ch2loc[ch] for ch in raw.info['ch_names']])\n",
    "\n",
    "    sub_coords.append(coords)\n",
    "    sub_ch_names.append(raw.info['ch_names'])"
   ]
  },
  {
   "cell_type": "code",
   "execution_count": null,
   "metadata": {},
   "outputs": [],
   "source": [
    "values = all_xcorrs.max(-1)\n",
    "coords = np.vstack(sub_coords) * 1000\n",
    "values.shape, coords.shape"
   ]
  },
  {
   "cell_type": "code",
   "execution_count": null,
   "metadata": {},
   "outputs": [],
   "source": [
    "order = values.argsort()\n",
    "fig, ax = plt.subplots(figsize=(7, 2), layout='constrained', dpi=300)\n",
    "plot_markers(values[order], coords[order],\n",
    "                node_size=10, display_mode='lzr',\n",
    "                node_cmap='magma_r', colorbar=True,\n",
    "                alpha=0.8, node_vmin=0,\n",
    "                figure=fig, axes=ax)\n",
    "fig.show()"
   ]
  },
  {
   "cell_type": "code",
   "execution_count": null,
   "metadata": {},
   "outputs": [],
   "source": [
    "for i in range(len(sub_coords)):\n",
    "    values = sub_evoked[i].max(-1)\n",
    "    coords = sub_coords[i] * 1000\n",
    "    order = values.argsort()\n",
    "    fig, ax = plt.subplots(figsize=(7, 2), layout='constrained', dpi=300)\n",
    "    plot_markers(values[order], coords[order],\n",
    "                    node_size=10, display_mode='lzr',\n",
    "                    node_cmap='magma_r', colorbar=True,\n",
    "                    alpha=0.8, node_vmin=0, title=f'sub-{i+1:02d}',\n",
    "                    figure=fig, axes=ax)\n",
    "    fig.show()"
   ]
  }
 ],
 "metadata": {
  "kernelspec": {
   "display_name": "mne",
   "language": "python",
   "name": "python3"
  },
  "language_info": {
   "codemirror_mode": {
    "name": "ipython",
    "version": 3
   },
   "file_extension": ".py",
   "mimetype": "text/x-python",
   "name": "python",
   "nbconvert_exporter": "python",
   "pygments_lexer": "ipython3",
   "version": "3.12.5"
  }
 },
 "nbformat": 4,
 "nbformat_minor": 2
}
