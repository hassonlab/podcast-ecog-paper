{
 "cells": [
  {
   "cell_type": "code",
   "execution_count": 1,
   "metadata": {},
   "outputs": [],
   "source": [
    "import mne\n",
    "import numpy as np\n",
    "import pandas as pd\n",
    "import matplotlib.pyplot as plt\n",
    "\n",
    "from matplotlib.ticker import MultipleLocator\n",
    "\n",
    "from mne.io import read_raw_fif\n",
    "from mne_bids import BIDSPath\n",
    "from nilearn.plotting import plot_markers\n",
    "\n",
    "from scipy import stats\n",
    "from scipy import signal\n",
    "from scipy.io import wavfile\n",
    "from scipy.stats import zscore\n",
    "\n",
    "plt.style.use(\"figures.mplstyle\")\n",
    "plt.rcParams['xtick.labelsize'] = 6\n",
    "plt.rcParams['axes.labelsize'] = 6"
   ]
  },
  {
   "cell_type": "markdown",
   "metadata": {},
   "source": [
    "# figure 1"
   ]
  },
  {
   "cell_type": "markdown",
   "metadata": {},
   "source": [
    "## brain map"
   ]
  },
  {
   "cell_type": "code",
   "execution_count": null,
   "metadata": {},
   "outputs": [],
   "source": [
    "# get coords\n",
    "edf_path = BIDSPath(root=\"../../monkey/derivatives/ecogprep\", datatype=\"ieeg\", description=\"highgamma\", extension=\".fif\")\n",
    "\n",
    "all_coords = []\n",
    "for raw_fif in edf_path.match():\n",
    "    print(raw_fif)\n",
    "    raw = read_raw_fif(raw_fif, verbose=False)\n",
    "    ch2loc = {ch['ch_name']: ch['loc'][:3] for ch in raw.info['chs']}\n",
    "    sub_coords = np.vstack([ch2loc[ch] for ch in raw.info['ch_names']])\n",
    "\n",
    "    all_coords.append(sub_coords)"
   ]
  },
  {
   "cell_type": "code",
   "execution_count": null,
   "metadata": {},
   "outputs": [],
   "source": [
    "# elec_sub = [np.full(len(c), fill_value=i) for i, c in enumerate(all_coords)]\n",
    "elec_sub = [len(c) for i, c in enumerate(all_coords)]\n",
    "elec_sub"
   ]
  },
  {
   "cell_type": "code",
   "execution_count": null,
   "metadata": {},
   "outputs": [],
   "source": [
    "coords = np.vstack(all_coords) * 1000\n",
    "values = np.ones(len(coords))\n",
    "values.shape, coords.shape"
   ]
  },
  {
   "cell_type": "code",
   "execution_count": null,
   "metadata": {},
   "outputs": [],
   "source": [
    "fig, ax = plt.subplots(dpi=300)\n",
    "plot_markers(values, coords,\n",
    "             node_size=10, display_mode='lyr',\n",
    "            #  node_cmap='tab10',\n",
    "             node_cmap='Grays',\n",
    "             colorbar=not True,\n",
    "             node_kwargs=dict(edgecolors='none'),\n",
    "             alpha=0.5, node_vmin=0,\n",
    "             figure=fig, axes=ax)\n",
    "fig.savefig(\"../figures/figure1/viz-brain.svg\")                \n",
    "fig.show()"
   ]
  },
  {
   "cell_type": "markdown",
   "metadata": {},
   "source": [
    "## audio"
   ]
  },
  {
   "cell_type": "code",
   "execution_count": null,
   "metadata": {},
   "outputs": [],
   "source": [
    "audio_path = \"../../monkey/stimuli/monkey.wav\"\n",
    "# audio_path = \"../../pieman/stimuli/pieman.wav\"\n",
    "highfs, highqa = wavfile.read(audio_path)\n",
    "highqa = highqa[:, 0]"
   ]
  },
  {
   "cell_type": "code",
   "execution_count": null,
   "metadata": {},
   "outputs": [],
   "source": [
    "to_fs = 100\n",
    "y = signal.resample(highqa, num=round(highqa.size / highfs * to_fs))\n",
    "y.shape"
   ]
  },
  {
   "cell_type": "code",
   "execution_count": 8,
   "metadata": {},
   "outputs": [],
   "source": [
    "y = signal.detrend(y, type='constant')\n",
    "y = stats.zscore(y)\n",
    "y = np.clip(y, -5, 5)\n",
    "\n",
    "xaxis = np.arange(y.size) / to_fs / 60"
   ]
  },
  {
   "cell_type": "code",
   "execution_count": null,
   "metadata": {},
   "outputs": [],
   "source": [
    "audio_wav = y\n",
    "\n",
    "fig, ax = plt.subplots(figsize=(7.25, .75))\n",
    "ax.plot(xaxis, audio_wav, c='k')\n",
    "\n",
    "ax.set_xlim(0, 30)\n",
    "ax.set_xlabel(\"time (min)\")\n",
    "\n",
    "ax.set_yticks([])\n",
    "for spine in ['left', 'top', 'right']:\n",
    "    ax.spines[spine].set_visible(False)\n",
    "\n",
    "ax.xaxis.set_major_locator(MultipleLocator(5))\n",
    "ax.xaxis.set_minor_locator(MultipleLocator(1))\n",
    "\n",
    "fig.savefig(\"../figures/figure1/viz-audio.svg\", bbox_inches='tight', pad_inches=0)\n",
    "fig.show()"
   ]
  },
  {
   "cell_type": "markdown",
   "metadata": {},
   "source": [
    "# example brain data"
   ]
  },
  {
   "cell_type": "code",
   "execution_count": null,
   "metadata": {},
   "outputs": [],
   "source": [
    "channels = ['LGA10', 'DRPI1', 'LGA37']\n",
    "\n",
    "edf_path = BIDSPath(\n",
    "    root=\"../../monkey/derivatives/ecogprep\",\n",
    "    subject=\"03\",\n",
    "    datatype=\"ieeg\",\n",
    "    description=\"highgamma\",\n",
    "    extension=\".fif\",\n",
    ")\n",
    "\n",
    "edf_path = edf_path.match()[0]\n",
    "\n",
    "raw = mne.io.read_raw_fif(edf_path)\n",
    "raw = raw.pick(channels)\n",
    "raw = raw.resample(100)\n",
    "raw"
   ]
  },
  {
   "cell_type": "code",
   "execution_count": null,
   "metadata": {},
   "outputs": [],
   "source": [
    "raw_data = raw.get_data()\n",
    "raw_data.shape"
   ]
  },
  {
   "cell_type": "code",
   "execution_count": 12,
   "metadata": {},
   "outputs": [],
   "source": [
    "xaxis = np.arange(raw_data.shape[1]) / raw.info['sfreq'] / 60"
   ]
  },
  {
   "cell_type": "code",
   "execution_count": null,
   "metadata": {},
   "outputs": [],
   "source": [
    "fig, axes = plt.subplots(3, 1, figsize=(7.25, 1.5), sharex=False, sharey=True)\n",
    "for i, ax in enumerate(axes):\n",
    "    ax.plot(xaxis, stats.zscore(raw_data[i]), c='k', lw=.5)\n",
    "    ax.set_xlim(0, 30)\n",
    "\n",
    "    if i < len(axes) - 1:\n",
    "        ax.set_yticks([])\n",
    "        ax.set_xticks([])\n",
    "        ax.spines['bottom'].set_visible(False)\n",
    "\n",
    "    for spine in ['left', 'top', 'right']:\n",
    "        ax.spines[spine].set_visible(False)\n",
    "\n",
    "    ax.axvspan(21.216 / 60, 22.377 / 60)\n",
    "\n",
    "ax.set_xlabel(\"time (min)\")\n",
    "ax.xaxis.set_major_locator(MultipleLocator(5))\n",
    "ax.xaxis.set_minor_locator(MultipleLocator(1))\n",
    "\n",
    "fig.savefig(\"../figures/figure1/viz-elec-time-series.svg\", bbox_inches='tight', pad_inches=0)\n",
    "fig.show()"
   ]
  },
  {
   "cell_type": "markdown",
   "metadata": {},
   "source": [
    "# transcript"
   ]
  },
  {
   "cell_type": "code",
   "execution_count": null,
   "metadata": {},
   "outputs": [],
   "source": [
    "audio_path = \"../../monkey/stimuli/monkey.wav\"\n",
    "highfs, highqa = wavfile.read(audio_path)\n",
    "highqa = highqa[:, 0] "
   ]
  },
  {
   "cell_type": "code",
   "execution_count": null,
   "metadata": {},
   "outputs": [],
   "source": [
    "df = pd.read_csv(\"../../monkey/stimuli/monkey_util-whisperx_transcript.csv\")\n",
    "\n",
    "subdf = df.iloc[47:54]\n",
    "subdf"
   ]
  },
  {
   "cell_type": "code",
   "execution_count": null,
   "metadata": {},
   "outputs": [],
   "source": [
    "subdf_start = int(subdf.start.iloc[0] * highfs)\n",
    "subdf_end = int(subdf.end.iloc[-1] * highfs)\n",
    "subdf_wav = zscore(highqa[subdf_start : subdf_end])\n",
    "subdf_wav.shape"
   ]
  },
  {
   "cell_type": "code",
   "execution_count": null,
   "metadata": {},
   "outputs": [],
   "source": [
    "fig, ax = plt.subplots(figsize=(3.75, 0.5))\n",
    "\n",
    "start = subdf.start.iloc[0]\n",
    "for _, row in subdf.iterrows():\n",
    "    ax.text(row.start, y=5, s=row.word, rotation=24, fontsize=6)\n",
    "\n",
    "ax.set_xlim(21.2 - .05, 22.6 + .05)\n",
    "ax.xaxis.set_major_formatter('{x:.1f}')\n",
    "\n",
    "ax.set_ylim(-7, 7)\n",
    "ax.set_xlabel(\"time (s)\")\n",
    "\n",
    "xaxis = np.arange(len(subdf_wav)) / highfs + start\n",
    "ax.plot(xaxis, subdf_wav, c='k')\n",
    "\n",
    "# cleanup\n",
    "ax.set_yticks([])\n",
    "for spine in ['left', 'top', 'right']:\n",
    "    ax.spines[spine].set_visible(False)\n",
    "\n",
    "fig.savefig(\"../figures/figure1/viz-word-timing.svg\")\n",
    "fig.show()"
   ]
  },
  {
   "cell_type": "code",
   "execution_count": null,
   "metadata": {},
   "outputs": [],
   "source": [
    "subdf = df.iloc[4454:4462]\n",
    "subdf"
   ]
  },
  {
   "cell_type": "code",
   "execution_count": null,
   "metadata": {},
   "outputs": [],
   "source": [
    "subdf_start = int(subdf.start.iloc[0] * highfs)\n",
    "subdf_end = int(subdf.end.iloc[-1] * highfs)\n",
    "subdf_wav = zscore(highqa[subdf_start : subdf_end])\n",
    "subdf_wav.shape"
   ]
  },
  {
   "cell_type": "code",
   "execution_count": null,
   "metadata": {},
   "outputs": [],
   "source": [
    "fig, ax = plt.subplots(figsize=(3.75, 0.5))\n",
    "\n",
    "start = subdf.start.iloc[0] / 60\n",
    "end = subdf.end.iloc[-1] / 60\n",
    "\n",
    "xaxis = np.arange(len(subdf_wav)) / highfs / 60 + start\n",
    "ax.plot(xaxis, subdf_wav, c='k')\n",
    "ax.set_xlim(start-.0005, end)\n",
    "ax.set_ylim(-7, 7)\n",
    "\n",
    "for _, row in subdf.iterrows():\n",
    "    ax.text(row.start / 60, y=5, s=row.word, rotation=24, horizontalalignment='left', fontsize=6)\n",
    "    ax.axvline(row.start / 60, ymin=0.5, ymax=.8, color='black')\n",
    "    ax.axvspan(row.start / 60 - .0005, row.start / 60 + .0005, ymin=.25, ymax=.75, color='gray')\n",
    "\n",
    "ax.set_xlabel(\"time (min)\")\n",
    "ax.xaxis.set_major_formatter('{x:.3f}')\n",
    "\n",
    "# cleanup\n",
    "ax.set_yticks([])\n",
    "for spine in ['left', 'top', 'right']:\n",
    "    ax.spines[spine].set_visible(False)\n",
    "\n",
    "fig.savefig(\"../figures/figure1/viz-epoch-timing.svg\")\n",
    "fig.show()"
   ]
  },
  {
   "cell_type": "code",
   "execution_count": null,
   "metadata": {},
   "outputs": [],
   "source": [
    "events = np.zeros((len(subdf), 3), dtype=int)\n",
    "events[:, 0] = (subdf.start * raw.info['sfreq']).astype(int)\n",
    "events"
   ]
  },
  {
   "cell_type": "code",
   "execution_count": null,
   "metadata": {},
   "outputs": [],
   "source": [
    "epochs = mne.Epochs(\n",
    "    raw,\n",
    "    events,\n",
    "    tmin=-.2,\n",
    "    tmax=.2,\n",
    "    proj=None,\n",
    "    baseline=None,\n",
    "    event_id=None,\n",
    "    preload=True,\n",
    "    event_repeated=\"merge\",\n",
    ")"
   ]
  },
  {
   "cell_type": "code",
   "execution_count": null,
   "metadata": {},
   "outputs": [],
   "source": [
    "epoch_data = epochs.get_data()\n",
    "epoch_data.shape "
   ]
  },
  {
   "cell_type": "code",
   "execution_count": 50,
   "metadata": {},
   "outputs": [],
   "source": [
    "lags = epochs.times"
   ]
  },
  {
   "cell_type": "code",
   "execution_count": null,
   "metadata": {},
   "outputs": [],
   "source": [
    "colors = ['red', 'green', 'cyan']\n",
    "\n",
    "fig, axes = plt.subplots(len(epoch_data), 1, figsize=(2, 1.25), sharex=False, sharey=not True, dpi=200)\n",
    "fig.subplots_adjust(bottom=0)\n",
    "\n",
    "for i, ax in enumerate(axes):\n",
    "\n",
    "    for j, color in enumerate(colors):\n",
    "        time_series = epoch_data[i, j]\n",
    "        ax.plot(lags, zscore(time_series), c=color, lw=1)\n",
    "\n",
    "    if i < len(axes) - 1:\n",
    "        ax.set_xticks([])\n",
    "        ax.spines['bottom'].set_visible(False)\n",
    "\n",
    "    ax.set_yticks([])\n",
    "    ax.spines['left'].set_visible(False)\n",
    "\n",
    "    ax.set_ylabel(subdf.word.iloc[i], rotation=0, verticalalignment='center', horizontalalignment='right')\n",
    "\n",
    "# ax.xaxis.set_major_locator(MultipleLocator(5))\n",
    "# ax.xaxis.set_minor_locator(MultipleLocator(1))\n",
    "\n",
    "axes[-1].set_xlabel(\"lag (s)\")\n",
    "\n",
    "fig.savefig(\"../figures/figure1/viz-epochs.svg\", bbox_inches='tight', pad_inches=0)\n",
    "fig.show()"
   ]
  },
  {
   "cell_type": "markdown",
   "metadata": {},
   "source": [
    "# brain surface plotting"
   ]
  },
  {
   "cell_type": "code",
   "execution_count": 2,
   "metadata": {},
   "outputs": [],
   "source": [
    "import plotly.graph_objects as go\n",
    "import nibabel as nib\n",
    "from nilearn import datasets, plotting"
   ]
  },
  {
   "cell_type": "code",
   "execution_count": null,
   "metadata": {},
   "outputs": [],
   "source": [
    "surf_data = datasets.fetch_surf_fsaverage()\n",
    "surf_data"
   ]
  },
  {
   "cell_type": "code",
   "execution_count": null,
   "metadata": {},
   "outputs": [],
   "source": [
    "pial_left = nib.load(surf_data['pial_left']).agg_data()\n",
    "pial_right = nib.load(surf_data['pial_right']).agg_data()\n",
    "pial_left[0].shape"
   ]
  },
  {
   "cell_type": "code",
   "execution_count": null,
   "metadata": {},
   "outputs": [],
   "source": [
    "fig = go.Figure()\n",
    "\n",
    "fig.add_trace(\n",
    "    go.Mesh3d(\n",
    "        # coordinates\n",
    "        x=pial_left[0][:, 0],\n",
    "        y=pial_left[0][:, 1],\n",
    "        z=pial_left[0][:, 2],\n",
    "        # faces\n",
    "        i=pial_left[1][:, 0],\n",
    "        j=pial_left[1][:, 1],\n",
    "        k=pial_left[1][:, 2],\n",
    "        color=\"rgb(175,175,175)\",\n",
    "    )\n",
    ")\n",
    "\n",
    "# fig.add_trace(\n",
    "#     go.Mesh3d(\n",
    "#         # coordinates\n",
    "#         x=pial_right[0][:, 0],\n",
    "#         y=pial_right[0][:, 1],\n",
    "#         z=pial_right[0][:, 2],\n",
    "#         # faces\n",
    "#         i=pial_right[1][:, 0],\n",
    "#         j=pial_right[1][:, 1],\n",
    "#         k=pial_right[1][:, 2],\n",
    "#         color=\"rgb(175,175,175)\",\n",
    "#     )\n",
    "# )\n",
    "\n",
    "camera = dict(\n",
    "    up=dict(x=0, y=0, z=1),\n",
    "    center=dict(x=0, y=0, z=0),\n",
    "    eye=dict(x=-1.5, y=0, z=0),\n",
    ")\n",
    "\n",
    "scene = dict(\n",
    "    xaxis=dict(visible=False),\n",
    "    yaxis=dict(visible=False),\n",
    "    zaxis=dict(visible=False),\n",
    "    aspectmode=\"auto\",\n",
    ")\n",
    "\n",
    "r = 1.5\n",
    "center_x, center_y, center_z = 60.0, -1.333333, -29.333333\n",
    "\n",
    "u, v = np.mgrid[0 : 2 * np.pi : 26j, 0 : np.pi : 26j]\n",
    "x = r * np.cos(u) * np.sin(v) + center_x\n",
    "y = r * np.sin(u) * np.sin(v) + center_y\n",
    "z = r * np.cos(v) + center_z\n",
    "fig.add_trace(\n",
    "    go.Surface(\n",
    "        x=x,\n",
    "        y=y,\n",
    "        z=z,\n",
    "        surfacecolor=np.full(shape=z.shape, fill_value=1),\n",
    "        # name=elecname,\n",
    "        # legendgroup=cbar.title,\n",
    "        # colorscale=cbar.colorscale,\n",
    "    )\n",
    ")\n",
    "\n",
    "fig.update_layout(scene_camera=camera, scene=scene)\n",
    "fig.update_traces(\n",
    "    lighting_specular=0.4,\n",
    "    colorbar_thickness=40,\n",
    "    colorbar_tickfont_size=30,\n",
    "    lighting_roughness=0.4,\n",
    "    lightposition=dict(x=0, y=0, z=100),\n",
    "    lighting_ambient=0.3,\n",
    ")\n",
    "\n",
    "fig.show()"
   ]
  },
  {
   "cell_type": "markdown",
   "metadata": {},
   "source": [
    "# test for cathy"
   ]
  },
  {
   "cell_type": "code",
   "execution_count": 13,
   "metadata": {},
   "outputs": [
    {
     "name": "stdout",
     "output_type": "stream",
     "text": [
      "Opening raw data file ../../monkey/derivatives/ecogprep/sub-07/ieeg/sub-07_task-monkey_desc-highgamma_ieeg.fif...\n",
      "    Range : 0 ... 921599 =      0.000 ...  1799.998 secs\n",
      "Ready.\n"
     ]
    },
    {
     "data": {
      "text/html": [
       "<details open>\n",
       "    <summary><strong>General</strong></summary>\n",
       "    <table class=\"table table-hover table-striped table-sm table-responsive small\">\n",
       "        <tr>\n",
       "            <th>Measurement date</th>\n",
       "            \n",
       "            <td>August 26, 2019  16:01:28 GMT</td>\n",
       "            \n",
       "        </tr>\n",
       "        <tr>\n",
       "            <th>Experimenter</th>\n",
       "            \n",
       "            <td>Unknown</td>\n",
       "            \n",
       "        </tr>\n",
       "        <tr>\n",
       "            <th>Participant</th>\n",
       "            \n",
       "            \n",
       "            <td>sub-07</td>\n",
       "            \n",
       "            \n",
       "        </tr>\n",
       "    </table>\n",
       "    </details>\n",
       "    <details open>\n",
       "        <summary><strong>Channels</strong></summary>\n",
       "        <table class=\"table table-hover table-striped table-sm table-responsive small\">\n",
       "            <tr>\n",
       "                <th>Digitized points</th>\n",
       "                \n",
       "                <td>122 points</td>\n",
       "                \n",
       "            </tr>\n",
       "            <tr>\n",
       "                <th>Good channels</th>\n",
       "                <td>7 ECoG</td>\n",
       "            </tr>\n",
       "            <tr>\n",
       "                <th>Bad channels</th>\n",
       "                <td>None</td>\n",
       "            </tr>\n",
       "            <tr>\n",
       "                <th>EOG channels</th>\n",
       "                <td>Not available</td>\n",
       "            </tr>\n",
       "            <tr>\n",
       "                <th>ECG channels</th>\n",
       "                <td>Not available</td>\n",
       "            </tr>\n",
       "        </table>\n",
       "        </details>\n",
       "        <details open>\n",
       "            <summary><strong>Data</strong></summary>\n",
       "            <table class=\"table table-hover table-striped table-sm table-responsive small\">\n",
       "                \n",
       "                <tr>\n",
       "                    <th>Sampling frequency</th>\n",
       "                    <td>512.00 Hz</td>\n",
       "                </tr>\n",
       "                \n",
       "                \n",
       "                <tr>\n",
       "                    <th>Highpass</th>\n",
       "                    <td>70.00 Hz</td>\n",
       "                </tr>\n",
       "                \n",
       "                \n",
       "                <tr>\n",
       "                    <th>Lowpass</th>\n",
       "                    <td>200.00 Hz</td>\n",
       "                </tr>\n",
       "                \n",
       "                \n",
       "                \n",
       "                <tr>\n",
       "                    <th>Filenames</th>\n",
       "                    <td>sub-07_task-monkey_desc-highgamma_ieeg.fif</td>\n",
       "                </tr>\n",
       "                \n",
       "                \n",
       "                <tr>\n",
       "                    <th>Duration</th>\n",
       "                    <td>00:29:60 (HH:MM:SS)</td>\n",
       "                </tr>\n",
       "                \n",
       "            </table>\n",
       "            </details>"
      ],
      "text/plain": [
       "<Raw | sub-07_task-monkey_desc-highgamma_ieeg.fif, 7 x 921600 (1800.0 s), ~54 kB, data not loaded>"
      ]
     },
     "execution_count": 13,
     "metadata": {},
     "output_type": "execute_result"
    }
   ],
   "source": [
    "channels = ['DAMT3', 'DAMT4', 'DAI1', 'DAI2', 'DAI3', 'DAI4', 'DAI5', 'DAI6']\n",
    "\n",
    "edf_path = BIDSPath(\n",
    "    root=\"../../monkey/derivatives/ecogprep\",\n",
    "    subject=\"07\",\n",
    "    datatype=\"ieeg\",\n",
    "    description=\"highgamma\",\n",
    "    extension=\".fif\",\n",
    ")\n",
    "\n",
    "edf_path = edf_path.match()[0]\n",
    "\n",
    "raw = mne.io.read_raw_fif(edf_path)\n",
    "mask = np.isin(raw.info['ch_names'], channels)\n",
    "channels2 = np.array(raw.info['ch_names'])[mask]\n",
    "raw = raw.pick(channels2)\n",
    "raw"
   ]
  },
  {
   "cell_type": "code",
   "execution_count": 15,
   "metadata": {},
   "outputs": [
    {
     "data": {
      "text/plain": [
       "{'DAI6'}"
      ]
     },
     "execution_count": 15,
     "metadata": {},
     "output_type": "execute_result"
    }
   ],
   "source": [
    "set(channels) - set(channels2)"
   ]
  },
  {
   "cell_type": "code",
   "execution_count": 16,
   "metadata": {},
   "outputs": [
    {
     "data": {
      "text/plain": [
       "(7, 921600)"
      ]
     },
     "execution_count": 16,
     "metadata": {},
     "output_type": "execute_result"
    }
   ],
   "source": [
    "ecog_data = raw.get_data()\n",
    "ecog_data.shape"
   ]
  },
  {
   "cell_type": "code",
   "execution_count": 24,
   "metadata": {},
   "outputs": [],
   "source": [
    "# np.savez_compressed(\"ny743elecs.npz\", ecog_data)\n",
    "# !rm ny743elecs.npz"
   ]
  },
  {
   "cell_type": "code",
   "execution_count": 19,
   "metadata": {},
   "outputs": [
    {
     "data": {
      "image/png": "[encoded data removed]",
      "text/plain": [
       "<Figure size 1800x1500 with 7 Axes>"
      ]
     },
     "metadata": {
      "needs_background": "light"
     },
     "output_type": "display_data"
    }
   ],
   "source": [
    "fig, axes = plt.subplots(len(ecog_data), 1, figsize=(12, 10))\n",
    "for i, ax in enumerate(axes):\n",
    "    ax.set_title(channels2[i])\n",
    "    ax.plot(ecog_data[i])\n",
    "fig.show()"
   ]
  }
 ],
 "metadata": {
  "kernelspec": {
   "display_name": "mne",
   "language": "python",
   "name": "python3"
  },
  "language_info": {
   "codemirror_mode": {
    "name": "ipython",
    "version": 3
   },
   "file_extension": ".py",
   "mimetype": "text/x-python",
   "name": "python",
   "nbconvert_exporter": "python",
   "pygments_lexer": "ipython3",
   "version": "3.12.7"
  }
 },
 "nbformat": 4,
 "nbformat_minor": 2
}
